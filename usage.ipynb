{
 "cells": [
  {
   "cell_type": "code",
   "execution_count": 4,
   "metadata": {},
   "outputs": [],
   "source": [
    "import matplotlib.pyplot as plt\n",
    "import numpy as np\n",
    "from plt_planner import Plot_Planner"
   ]
  },
  {
   "cell_type": "code",
   "execution_count": 5,
   "metadata": {},
   "outputs": [],
   "source": [
    "# init\n",
    "plot_planer = Plot_Planner(\"./sample.png\")"
   ]
  },
  {
   "cell_type": "code",
   "execution_count": 10,
   "metadata": {},
   "outputs": [
    {
     "data": {
      "text/plain": [
       "(-0.5, 1133.5, 1133.5, -0.5)"
      ]
     },
     "execution_count": 10,
     "metadata": {},
     "output_type": "execute_result"
    },
    {
     "data": {
      "image/png": "[encoded data removed]",
      "text/plain": [
       "<Figure size 432x288 with 1 Axes>"
      ]
     },
     "metadata": {
      "needs_background": "light"
     },
     "output_type": "display_data"
    }
   ],
   "source": [
    "# show the sketch\n",
    "f = plt.imread(\"./sample.png\")\n",
    "plt.imshow(f)\n",
    "plt.axis('off')"
   ]
  },
  {
   "cell_type": "code",
   "execution_count": 6,
   "metadata": {},
   "outputs": [
    {
     "name": "stdout",
     "output_type": "stream",
     "text": [
      "plt.figure(figsize = (10.0, 10.0))\n",
      "grid = plt.GridSpec(45, 45)\n",
      "plt.subplot(grid[4:14,31:42])\n",
      "# 0x180b4f\n",
      "\n",
      "plt.subplot(grid[4:29,3:29])\n",
      "# 0x808080\n",
      "\n",
      "plt.subplot(grid[38:42,16:42])\n",
      "# 0x8e2e4f\n",
      "\n",
      "plt.subplot(grid[22:29,30:42])\n",
      "# 0xa3d16e\n",
      "\n",
      "plt.subplot(grid[16:21,31:37])\n",
      "# 0xaa395d\n",
      "\n",
      "plt.subplot(grid[32:36,16:42])\n",
      "# 0xc45ff6\n",
      "\n",
      "plt.subplot(grid[32:42,3:14])\n",
      "# 0xe8a7bf\n",
      "\n"
     ]
    }
   ],
   "source": [
    "# obtain the code \n",
    "print(plot_planer.to_code_grid())"
   ]
  },
  {
   "cell_type": "code",
   "execution_count": 11,
   "metadata": {},
   "outputs": [
    {
     "data": {
      "text/plain": [
       "<AxesSubplot:>"
      ]
     },
     "execution_count": 11,
     "metadata": {},
     "output_type": "execute_result"
    },
    {
     "data": {
      "image/png": "[encoded data removed]",
      "text/plain": [
       "<Figure size 720x720 with 7 Axes>"
      ]
     },
     "metadata": {
      "needs_background": "light"
     },
     "output_type": "display_data"
    }
   ],
   "source": [
    "# fill in your code of plots here!\n",
    "\n",
    "plt.figure(figsize = (10.0, 10.0))\n",
    "grid = plt.GridSpec(45, 45)\n",
    "plt.subplot(grid[4:14,31:42])\n",
    "# 0x180b4f\n",
    "\n",
    "plt.subplot(grid[4:29,3:29])\n",
    "# 0x808080\n",
    "\n",
    "plt.subplot(grid[38:42,16:42])\n",
    "# 0x8e2e4f\n",
    "\n",
    "plt.subplot(grid[22:29,30:42])\n",
    "# 0xa3d16e\n",
    "\n",
    "plt.subplot(grid[16:21,31:37])\n",
    "# 0xaa395d\n",
    "\n",
    "plt.subplot(grid[32:36,16:42])\n",
    "# 0xc45ff6\n",
    "\n",
    "plt.subplot(grid[32:42,3:14])\n",
    "# 0xe8a7bf"
   ]
  },
  {
   "cell_type": "code",
   "execution_count": null,
   "metadata": {},
   "outputs": [],
   "source": []
  }
 ],
 "metadata": {
  "kernelspec": {
   "display_name": "astro",
   "language": "python",
   "name": "python3"
  },
  "language_info": {
   "codemirror_mode": {
    "name": "ipython",
    "version": 3
   },
   "file_extension": ".py",
   "mimetype": "text/x-python",
   "name": "python",
   "nbconvert_exporter": "python",
   "pygments_lexer": "ipython3",
   "version": "3.8.13"
  },
  "orig_nbformat": 4
 },
 "nbformat": 4,
 "nbformat_minor": 2
}
